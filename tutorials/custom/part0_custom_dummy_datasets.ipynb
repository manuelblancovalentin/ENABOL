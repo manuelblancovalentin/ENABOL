{
 "cells": [
  {
   "attachments": {},
   "cell_type": "markdown",
   "metadata": {},
   "source": [
    "This notebook basically creates some dummy datasets intended to be used in our custom models to test the basic trainability of our networks"
   ]
  },
  {
   "cell_type": "code",
   "execution_count": 19,
   "metadata": {
    "vscode": {
     "languageId": "python"
    }
   },
   "outputs": [],
   "source": [
    "import numpy as np\n",
    "import matplotlib.pyplot as plt \n",
    "import os "
   ]
  },
  {
   "cell_type": "code",
   "execution_count": 14,
   "metadata": {
    "vscode": {
     "languageId": "python"
    }
   },
   "outputs": [],
   "source": [
    "train_val_proportion = 0.8"
   ]
  },
  {
   "attachments": {},
   "cell_type": "markdown",
   "metadata": {},
   "source": [
    "## ds0: y = 2*x"
   ]
  },
  {
   "cell_type": "code",
   "execution_count": 23,
   "metadata": {
    "vscode": {
     "languageId": "python"
    }
   },
   "outputs": [],
   "source": [
    "\"\"\" Define vars \"\"\"\n",
    "nsamples = 10000\n",
    "nfeatures = 1\n",
    "ds_name = \"dummy_linear_double\"\n",
    "\n",
    "\"\"\" Create x and y \"\"\" \n",
    "x = np.random.rand(nsamples,nfeatures)\n",
    "fn = lambda x: 2*x\n",
    "y = fn(x)"
   ]
  },
  {
   "attachments": {},
   "cell_type": "markdown",
   "metadata": {},
   "source": [
    "# ds1: y = 0.5*x"
   ]
  },
  {
   "cell_type": "code",
   "execution_count": 27,
   "metadata": {
    "vscode": {
     "languageId": "python"
    }
   },
   "outputs": [],
   "source": [
    "\"\"\" Define vars \"\"\"\n",
    "nsamples = 10000\n",
    "nfeatures = 1\n",
    "ds_name = \"dummy_linear_half\"\n",
    "\n",
    "\"\"\" Create x and y \"\"\" \n",
    "x = np.random.rand(nsamples,nfeatures)\n",
    "fn = lambda x: 0.5*x\n",
    "y = fn(x)"
   ]
  },
  {
   "attachments": {},
   "cell_type": "markdown",
   "metadata": {},
   "source": [
    "## Split"
   ]
  },
  {
   "cell_type": "code",
   "execution_count": 28,
   "metadata": {
    "vscode": {
     "languageId": "python"
    }
   },
   "outputs": [],
   "source": [
    "# Split \n",
    "ntrainval = int(np.floor(nsamples*train_val_proportion))\n",
    "x_train_val = x[:ntrainval]\n",
    "y_train_val = y[:ntrainval]\n",
    "x_test = x[ntrainval:]\n",
    "y_test = y[ntrainval:]"
   ]
  },
  {
   "attachments": {},
   "cell_type": "markdown",
   "metadata": {},
   "source": [
    "## Now save dataset"
   ]
  },
  {
   "cell_type": "code",
   "execution_count": 29,
   "metadata": {
    "vscode": {
     "languageId": "python"
    }
   },
   "outputs": [
    {
     "name": "stdout",
     "output_type": "stream",
     "text": [
      "Creating dataset directory at ../../datasets/dummy_linear_half\n",
      "Saved dataset X_train_val.npy into ../../datasets/dummy_linear_half/X_train_val.npy\n",
      "Saved dataset X_test.npy into ../../datasets/dummy_linear_half/X_test.npy\n",
      "Saved dataset y_train_val.npy into ../../datasets/dummy_linear_half/y_train_val.npy\n",
      "Saved dataset y_test.npy into ../../datasets/dummy_linear_half/y_test.npy\n"
     ]
    }
   ],
   "source": [
    "ds_dir = f\"../../datasets/{ds_name}\"\n",
    "os.makedirs(ds_dir, exist_ok=True)\n",
    "print(f\"Creating dataset directory at {ds_dir}\")\n",
    "\n",
    "dss = {'X_train_val.npy': x_train_val, \n",
    "       'X_test.npy': x_test,\n",
    "       'y_train_val.npy': y_train_val,\n",
    "       'y_test.npy': y_test}\n",
    "\n",
    "for kw in dss:\n",
    "    fout = os.path.join(ds_dir,kw)\n",
    "    with open(fout, 'wb') as f:\n",
    "        np.save(f, dss[kw])\n",
    "    print(f\"Saved dataset {kw} into {fout}\")"
   ]
  },
  {
   "cell_type": "code",
   "execution_count": null,
   "metadata": {
    "vscode": {
     "languageId": "python"
    }
   },
   "outputs": [],
   "source": []
  }
 ],
 "metadata": {
  "kernelspec": {
   "display_name": "Python 3 (ipykernel)",
   "language": "python",
   "name": "python3"
  },
  "orig_nbformat": 4
 },
 "nbformat": 4,
 "nbformat_minor": 2
}
