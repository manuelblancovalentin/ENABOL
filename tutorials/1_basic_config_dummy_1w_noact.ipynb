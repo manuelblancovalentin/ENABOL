{
 "cells": [
  {
   "cell_type": "markdown",
   "id": "fa87a339",
   "metadata": {},
   "source": [
    "## Tutorial 1. Checking system and conda packages"
   ]
  },
  {
   "cell_type": "code",
   "execution_count": 1,
   "id": "0a19de49",
   "metadata": {},
   "outputs": [
    {
     "name": "stdout",
     "output_type": "stream",
     "text": [
      "[INFO] - hls4ml path imported from local dir /mnt/raid5/asic/projects/NU/ENABOL/manuelbv/hls4ml\n"
     ]
    },
    {
     "name": "stderr",
     "output_type": "stream",
     "text": [
      "2025-06-20 16:35:58.288332: I tensorflow/core/util/port.cc:153] oneDNN custom operations are on. You may see slightly different numerical results due to floating-point round-off errors from different computation orders. To turn them off, set the environment variable `TF_ENABLE_ONEDNN_OPTS=0`.\n",
      "2025-06-20 16:35:58.290143: I external/local_xla/xla/tsl/cuda/cudart_stub.cc:32] Could not find cuda drivers on your machine, GPU will not be used.\n",
      "2025-06-20 16:35:58.293690: I external/local_xla/xla/tsl/cuda/cudart_stub.cc:32] Could not find cuda drivers on your machine, GPU will not be used.\n",
      "2025-06-20 16:35:58.303744: E external/local_xla/xla/stream_executor/cuda/cuda_fft.cc:467] Unable to register cuFFT factory: Attempting to register factory for plugin cuFFT when one has already been registered\n",
      "WARNING: All log messages before absl::InitializeLog() is called are written to STDERR\n",
      "E0000 00:00:1750455358.322275 3056252 cuda_dnn.cc:8579] Unable to register cuDNN factory: Attempting to register factory for plugin cuDNN when one has already been registered\n",
      "E0000 00:00:1750455358.327701 3056252 cuda_blas.cc:1407] Unable to register cuBLAS factory: Attempting to register factory for plugin cuBLAS when one has already been registered\n",
      "W0000 00:00:1750455358.341772 3056252 computation_placer.cc:177] computation placer already registered. Please check linkage and avoid linking the same target more than once.\n",
      "W0000 00:00:1750455358.341790 3056252 computation_placer.cc:177] computation placer already registered. Please check linkage and avoid linking the same target more than once.\n",
      "W0000 00:00:1750455358.341792 3056252 computation_placer.cc:177] computation placer already registered. Please check linkage and avoid linking the same target more than once.\n",
      "W0000 00:00:1750455358.341794 3056252 computation_placer.cc:177] computation placer already registered. Please check linkage and avoid linking the same target more than once.\n",
      "2025-06-20 16:35:58.346381: I tensorflow/core/platform/cpu_feature_guard.cc:210] This TensorFlow binary is optimized to use available CPU instructions in performance-critical operations.\n",
      "To enable the following instructions: AVX2 AVX512F AVX512_VNNI FMA, in other operations, rebuild TensorFlow with the appropriate compiler flags.\n"
     ]
    },
    {
     "name": "stdout",
     "output_type": "stream",
     "text": [
      "[INFO] - hls4ml version: 0.6.0\n",
      "[INFO] - Configuration loaded from /mnt/raid5/asic/projects/NU/ENABOL/manuelbv/enabol/config/config.yaml\n"
     ]
    },
    {
     "name": "stderr",
     "output_type": "stream",
     "text": [
      "/mnt/raid5/asic/projects/NU/ENABOL/manuelbv/hls4ml/converters/__init__.py:16: UserWarning: WARNING: Pytorch converter is not enabled!\n",
      "  warnings.warn(\"WARNING: Pytorch converter is not enabled!\")\n",
      "/mnt/raid5/asic/projects/NU/ENABOL/manuelbv/hls4ml/converters/__init__.py:23: UserWarning: WARNING: ONNX converter is not enabled!\n",
      "  warnings.warn(\"WARNING: ONNX converter is not enabled!\")\n"
     ]
    }
   ],
   "source": [
    "# Add current directory to Path \n",
    "import sys \n",
    "sys.path.append('..')\n",
    "\n",
    "# Import the enabol module\n",
    "import enabol"
   ]
  },
  {
   "cell_type": "code",
   "execution_count": 2,
   "id": "14a43955",
   "metadata": {},
   "outputs": [
    {
     "name": "stdout",
     "output_type": "stream",
     "text": [
      "X shape: (200, 1)\n",
      "Y shape: (200, 1)\n"
     ]
    },
    {
     "data": {
      "image/png": "[encoded data removed]",
      "text/plain": [
       "<Figure size 640x480 with 1 Axes>"
      ]
     },
     "metadata": {},
     "output_type": "display_data"
    }
   ],
   "source": [
    "\"\"\" Create a simple Linear dataset (Y = 0.5*X) \"\"\"\n",
    "from enabol.dataset import LinearDataset\n",
    "\n",
    "# Create a simple linear regression dataset\n",
    "dataset = LinearDataset(n_samples = 200, weight = 0.5, noise_std = 0.0, seed = 42)\n",
    "\n",
    "# Access the data \n",
    "X, Y = dataset.get()\n",
    "print(\"X shape:\", X.shape)\n",
    "print(\"Y shape:\", Y.shape)\n",
    "\n",
    "# Visualize\n",
    "dataset.plot()"
   ]
  },
  {
   "cell_type": "code",
   "execution_count": 3,
   "id": "07b51878",
   "metadata": {},
   "outputs": [
    {
     "name": "stderr",
     "output_type": "stream",
     "text": [
      "2025-06-20 16:36:00.579070: E external/local_xla/xla/stream_executor/cuda/cuda_platform.cc:51] failed call to cuInit: INTERNAL: CUDA error: Failed call to cuInit: UNKNOWN ERROR (303)\n"
     ]
    },
    {
     "data": {
      "text/html": [
       "<pre style=\"white-space:pre;overflow-x:auto;line-height:normal;font-family:Menlo,'DejaVu Sans Mono',consolas,'Courier New',monospace\"><span style=\"font-weight: bold\">Model: \"functional\"</span>\n",
       "</pre>\n"
      ],
      "text/plain": [
       "\u001b[1mModel: \"functional\"\u001b[0m\n"
      ]
     },
     "metadata": {},
     "output_type": "display_data"
    },
    {
     "data": {
      "text/html": [
       "<pre style=\"white-space:pre;overflow-x:auto;line-height:normal;font-family:Menlo,'DejaVu Sans Mono',consolas,'Courier New',monospace\">┏━━━━━━━━━━━━━━━━━━━━━━━━━━━━━━━━━┳━━━━━━━━━━━━━━━━━━━━━━━━┳━━━━━━━━━━━━━━━┓\n",
       "┃<span style=\"font-weight: bold\"> Layer (type)                    </span>┃<span style=\"font-weight: bold\"> Output Shape           </span>┃<span style=\"font-weight: bold\">       Param # </span>┃\n",
       "┡━━━━━━━━━━━━━━━━━━━━━━━━━━━━━━━━━╇━━━━━━━━━━━━━━━━━━━━━━━━╇━━━━━━━━━━━━━━━┩\n",
       "│ input_layer (<span style=\"color: #0087ff; text-decoration-color: #0087ff\">InputLayer</span>)        │ (<span style=\"color: #00d7ff; text-decoration-color: #00d7ff\">None</span>, <span style=\"color: #00af00; text-decoration-color: #00af00\">1</span>)              │             <span style=\"color: #00af00; text-decoration-color: #00af00\">0</span> │\n",
       "├─────────────────────────────────┼────────────────────────┼───────────────┤\n",
       "│ dense (<span style=\"color: #0087ff; text-decoration-color: #0087ff\">Dense</span>)                   │ (<span style=\"color: #00d7ff; text-decoration-color: #00d7ff\">None</span>, <span style=\"color: #00af00; text-decoration-color: #00af00\">1</span>)              │             <span style=\"color: #00af00; text-decoration-color: #00af00\">1</span> │\n",
       "└─────────────────────────────────┴────────────────────────┴───────────────┘\n",
       "</pre>\n"
      ],
      "text/plain": [
       "┏━━━━━━━━━━━━━━━━━━━━━━━━━━━━━━━━━┳━━━━━━━━━━━━━━━━━━━━━━━━┳━━━━━━━━━━━━━━━┓\n",
       "┃\u001b[1m \u001b[0m\u001b[1mLayer (type)                   \u001b[0m\u001b[1m \u001b[0m┃\u001b[1m \u001b[0m\u001b[1mOutput Shape          \u001b[0m\u001b[1m \u001b[0m┃\u001b[1m \u001b[0m\u001b[1m      Param #\u001b[0m\u001b[1m \u001b[0m┃\n",
       "┡━━━━━━━━━━━━━━━━━━━━━━━━━━━━━━━━━╇━━━━━━━━━━━━━━━━━━━━━━━━╇━━━━━━━━━━━━━━━┩\n",
       "│ input_layer (\u001b[38;5;33mInputLayer\u001b[0m)        │ (\u001b[38;5;45mNone\u001b[0m, \u001b[38;5;34m1\u001b[0m)              │             \u001b[38;5;34m0\u001b[0m │\n",
       "├─────────────────────────────────┼────────────────────────┼───────────────┤\n",
       "│ dense (\u001b[38;5;33mDense\u001b[0m)                   │ (\u001b[38;5;45mNone\u001b[0m, \u001b[38;5;34m1\u001b[0m)              │             \u001b[38;5;34m1\u001b[0m │\n",
       "└─────────────────────────────────┴────────────────────────┴───────────────┘\n"
      ]
     },
     "metadata": {},
     "output_type": "display_data"
    },
    {
     "data": {
      "text/html": [
       "<pre style=\"white-space:pre;overflow-x:auto;line-height:normal;font-family:Menlo,'DejaVu Sans Mono',consolas,'Courier New',monospace\"><span style=\"font-weight: bold\"> Total params: </span><span style=\"color: #00af00; text-decoration-color: #00af00\">1</span> (4.00 B)\n",
       "</pre>\n"
      ],
      "text/plain": [
       "\u001b[1m Total params: \u001b[0m\u001b[38;5;34m1\u001b[0m (4.00 B)\n"
      ]
     },
     "metadata": {},
     "output_type": "display_data"
    },
    {
     "data": {
      "text/html": [
       "<pre style=\"white-space:pre;overflow-x:auto;line-height:normal;font-family:Menlo,'DejaVu Sans Mono',consolas,'Courier New',monospace\"><span style=\"font-weight: bold\"> Trainable params: </span><span style=\"color: #00af00; text-decoration-color: #00af00\">1</span> (4.00 B)\n",
       "</pre>\n"
      ],
      "text/plain": [
       "\u001b[1m Trainable params: \u001b[0m\u001b[38;5;34m1\u001b[0m (4.00 B)\n"
      ]
     },
     "metadata": {},
     "output_type": "display_data"
    },
    {
     "data": {
      "text/html": [
       "<pre style=\"white-space:pre;overflow-x:auto;line-height:normal;font-family:Menlo,'DejaVu Sans Mono',consolas,'Courier New',monospace\"><span style=\"font-weight: bold\"> Non-trainable params: </span><span style=\"color: #00af00; text-decoration-color: #00af00\">0</span> (0.00 B)\n",
       "</pre>\n"
      ],
      "text/plain": [
       "\u001b[1m Non-trainable params: \u001b[0m\u001b[38;5;34m0\u001b[0m (0.00 B)\n"
      ]
     },
     "metadata": {},
     "output_type": "display_data"
    }
   ],
   "source": [
    "\"\"\" build a simple model \"\"\"\n",
    "from enabol.nn import MLPModel\n",
    "\n",
    "dataset = LinearDataset(n_samples=200, weight=0.5, seed=42)\n",
    "model = MLPModel(dataset, units=[1], activations=False, use_bias=False,\n",
    "                loss = 'mse', optimizer = 'adam', metrics = [])\n",
    "model.summary()"
   ]
  },
  {
   "cell_type": "code",
   "execution_count": null,
   "id": "84f7ce32",
   "metadata": {},
   "outputs": [
    {
     "name": "stdout",
     "output_type": "stream",
     "text": [
      "[INFO] - /usr/bin already in PATH environment variable\n",
      "[INFO] - Added /usr/lib/x86_64-linux-gnu:/usr/lib32: to LD_LIBRARY_PATH environment variable\n",
      "[INFO] - Set LIBRARY_PATH to /usr/lib/x86_64-linux-gnu:/usr/lib32:\n",
      "[INFO] - Set CC to /usr/bin/gcc-4.9\n",
      "[INFO] - Set CXX to /usr/bin/g++-4.9\n",
      "[INFO] - Set CPLUS_INCLUDE_PATH to /usr/include:/usr/include/c++/4.9:/usr/include/x86_64-linux-gnu\n",
      "Interpreting Model\n",
      "Topology:\n",
      "Layer name: input_layer, layer type: Input\n",
      "Layer name: dense, layer type: Dense\n",
      "  -> Activation (linear), layer name: dense\n",
      "[WARN] - Layer 'input_layer' is not a weight layer, skipping precision for weight and bias.\n",
      "[WARN] - Layer 'dense' is not a weight layer, skipping precision for weight and bias.\n",
      "[INFO] - HLS4ML configuration:\n",
      "{\n",
      "  \"Model\": {\n",
      "    \"Precision\": \"ap_fixed<16,6>\",\n",
      "    \"ReuseFactor\": 1,\n",
      "    \"Strategy\": \"Latency\",\n",
      "    \"Trainable\": true,\n",
      "    \"Losses\": [\n",
      "      \"mse\"\n",
      "    ]\n",
      "  },\n",
      "  \"LayerName\": {\n",
      "    \"input_layer\": {\n",
      "      \"Precision\": {\n",
      "        \"result\": \"ap_fixed<17,7>\"\n",
      "      },\n",
      "      \"Trace\": true,\n",
      "      \"ReuseFactor\": 1,\n",
      "      \"Strategy\": \"Latency\"\n",
      "    },\n",
      "    \"dense\": {\n",
      "      \"Precision\": {\n",
      "        \"weight\": \"ap_fixed<16,6>\",\n",
      "        \"bias\": \"ap_fixed<16,6>\",\n",
      "        \"result\": \"ap_fixed<17,7>\"\n",
      "      },\n",
      "      \"ReuseFactor\": 1,\n",
      "      \"Trainable\": true,\n",
      "      \"Trace\": true,\n",
      "      \"Strategy\": \"Latency\"\n",
      "    },\n",
      "    \"dense_linear\": {\n",
      "      \"Precision\": {\n",
      "        \"weight\": \"ap_fixed<16,6>\",\n",
      "        \"bias\": \"ap_fixed<16,6>\",\n",
      "        \"result\": \"ap_fixed<17,7>\"\n",
      "      },\n",
      "      \"ReuseFactor\": 1,\n",
      "      \"table_size\": 1024,\n",
      "      \"table_t\": \"ap_fixed<18,8>\",\n",
      "      \"Trainable\": true,\n",
      "      \"Trace\": true,\n",
      "      \"Strategy\": \"Latency\"\n",
      "    }\n",
      "  },\n",
      "  \"IOType\": \"io_parallel\",\n",
      "  \"backend\": \"Vivado\",\n",
      "  \"XilinxPart\": \"xcku035-fbva676-2-e\"\n",
      "}\n",
      "[WARN] - Output directory '../sandbox' does not match model name 'MLPModel_i1_o1_0w1'. This may lead to confusion. Adding it automatically.\n",
      "Interpreting Model\n",
      "Layer name: input_layer, layer type: InputLayer, input shapes: None, output shape: [None, 1]\n",
      "Layer name: dense, layer type: Dense, input shapes: [[None, 1]], output shape: [None, 1]\n",
      "[INFO] - Skipping activation layer linear for layer dense\n",
      "Creating HLS model\n",
      "Writing HLS project\n",
      "config2\n",
      "{'WnB': ['w2', 'b2']}\n"
     ]
    },
    {
     "name": "stderr",
     "output_type": "stream",
     "text": [
      "WARNING:absl:You are saving your model as an HDF5 file via `model.save()` or `keras.saving.save_model(model)`. This file format is considered legacy. We recommend using instead the native Keras format, e.g. `model.save('my_model.keras')` or `keras.saving.save_model(model, 'my_model.keras')`. \n"
     ]
    },
    {
     "name": "stdout",
     "output_type": "stream",
     "text": [
      "Done\n"
     ]
    }
   ],
   "source": [
    "# Define default precision as ap_fixed<16,6>\n",
    "default_precision = enabol.dtypes.ap_fixed(16, 6)\n",
    "\n",
    "# Set input layers precision \n",
    "precision = {ly.name: {'result': enabol.dtypes.ap_ufixed(16, 1)} for ly in model.layers if 'InputLayer' in ly.__class__.__name__}\n",
    "\n",
    "# If one wants to set other precisions, do it like so:\n",
    "# precision[<layer_name>] = {'result': enabol.dtypes.ap_fixed(17,5), \n",
    "#                               'weight': enabol.dtypes.ap_fixed(16,4),\n",
    "#                               'bias': enabol.dtypes.ap_fixed(8,3)}\n",
    "\n",
    "# COMPILE THE MODEL\n",
    "hls_model, config = enabol.compile_model(model, \n",
    "                                         output_dir = \"../sandbox\",\n",
    "                                         trainable = True,\n",
    "                                         part = 'xcku035-fbva676-2-e',\n",
    "                                         io_type = 'io_parallel',\n",
    "                                         backend = 'Vivado',\n",
    "                                         strategy = 'Latency',\n",
    "                                         reuse_factor = 1,\n",
    "                                         tracing = True,\n",
    "                                         granularity = 'name',\n",
    "                                         default_precision = default_precision, \n",
    "                                         verbose = True,\n",
    "                                         overwrite = True)\n"
   ]
  },
  {
   "cell_type": "code",
   "execution_count": null,
   "id": "83971e52",
   "metadata": {},
   "outputs": [],
   "source": [
    "!echo $CPLUS_INCLUDE_PATH\n",
    "!gcc -xc++ -E -v - </dev/null"
   ]
  },
  {
   "cell_type": "code",
   "execution_count": null,
   "id": "8b3a3f35",
   "metadata": {},
   "outputs": [],
   "source": [
    "\n",
    "\n",
    "!which gcc\n",
    "!gcc --version"
   ]
  },
  {
   "cell_type": "code",
   "execution_count": null,
   "id": "d9ee3f1b",
   "metadata": {},
   "outputs": [],
   "source": [
    "!ls /usr/bin/gcc*"
   ]
  },
  {
   "cell_type": "code",
   "execution_count": null,
   "id": "825d3c4d",
   "metadata": {},
   "outputs": [],
   "source": []
  }
 ],
 "metadata": {
  "kernelspec": {
   "display_name": "enabol",
   "language": "python",
   "name": "python3"
  },
  "language_info": {
   "codemirror_mode": {
    "name": "ipython",
    "version": 3
   },
   "file_extension": ".py",
   "mimetype": "text/x-python",
   "name": "python",
   "nbconvert_exporter": "python",
   "pygments_lexer": "ipython3",
   "version": "3.10.18"
  }
 },
 "nbformat": 4,
 "nbformat_minor": 5
}
